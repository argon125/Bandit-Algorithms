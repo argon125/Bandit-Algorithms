{
 "cells": [
  {
   "cell_type": "code",
   "execution_count": 1,
   "metadata": {
    "executionInfo": {
     "elapsed": 1056,
     "status": "ok",
     "timestamp": 1608015697433,
     "user": {
      "displayName": "Arrun Sivasubramanian",
      "photoUrl": "https://lh3.googleusercontent.com/a-/AOh14GjSWIO-QF__sallw7NcFUUpdE7GNq6EQTJqS9T36A=s64",
      "userId": "17543593515242753997"
     },
     "user_tz": -330
    },
    "id": "wtS9SzQVVk9B"
   },
   "outputs": [],
   "source": [
    "import numpy as np\n",
    "from random import *\n",
    "import matplotlib.pyplot as plt"
   ]
  },
  {
   "cell_type": "code",
   "execution_count": 2,
   "metadata": {
    "colab": {
     "base_uri": "https://localhost:8080/"
    },
    "executionInfo": {
     "elapsed": 15096,
     "status": "ok",
     "timestamp": 1608015712132,
     "user": {
      "displayName": "Arrun Sivasubramanian",
      "photoUrl": "https://lh3.googleusercontent.com/a-/AOh14GjSWIO-QF__sallw7NcFUUpdE7GNq6EQTJqS9T36A=s64",
      "userId": "17543593515242753997"
     },
     "user_tz": -330
    },
    "id": "ox6lcNEQVk9P",
    "outputId": "28fc55e9-1b1e-489d-d7ed-8f403d2cdee0"
   },
   "outputs": [
    {
     "name": "stdout",
     "output_type": "stream",
     "text": [
      "Enter Number of Arms: 3\n",
      "Enter Number of Iterations:100000\n",
      "Enter Values of Rewards:\n",
      "1.2\n",
      "1.5\n",
      "1.8\n",
      "Input of Rewards: [1.2 1.5 1.8]\n"
     ]
    }
   ],
   "source": [
    "n = int(input(\"Enter Number of Arms: \")) # number of arms = 3\n",
    "N = int(input(\"Enter Number of Iterations:\")) # number of simulations = 100000\n",
    "reward = np.zeros(n, dtype = \"float32\")\n",
    "print(\"Enter Values of Rewards:\") # 1.2, 5.5, 3.8\n",
    "for i in range(n):\n",
    "    reward[i] = float(input())\n",
    "\n",
    "print(f\"Input of Rewards: {reward}\")"
   ]
  },
  {
   "cell_type": "code",
   "execution_count": 3,
   "metadata": {
    "executionInfo": {
     "elapsed": 15092,
     "status": "ok",
     "timestamp": 1608015712133,
     "user": {
      "displayName": "Arrun Sivasubramanian",
      "photoUrl": "https://lh3.googleusercontent.com/a-/AOh14GjSWIO-QF__sallw7NcFUUpdE7GNq6EQTJqS9T36A=s64",
      "userId": "17543593515242753997"
     },
     "user_tz": -330
    },
    "id": "DjKquhuNVk9R"
   },
   "outputs": [],
   "source": [
    "# Define Action class \n",
    "class Actions: \n",
    "    def __init__(self, m): \n",
    "        self.m = m # reward for arm\n",
    "        self.mean = 0 # average reward for arm \n",
    "        self.N = 0 #Number of Simulations\n",
    "  \n",
    "  # Choose a random action \n",
    "    def choose(self):  \n",
    "        return np.random.randn() + self.m  #adding a random number to reward to add noise\n",
    "  \n",
    "  # Update the action-value estimate \n",
    "    def update(self, x): \n",
    "        self.N += 1\n",
    "        self.mean = (1 - 1.0 / self.N)*self.mean + 1.0 / self.N * x\n",
    "    \n",
    "    def run_experiment(rewards, N): \n",
    "        actions = []\n",
    "        counts = []\n",
    "        for i in range(len(rewards)):\n",
    "            actions.append(Actions(rewards[i]))\n",
    "            counts.append(Actions(rewards[i]).N)\n",
    "        data = np.empty(N)\n",
    "        \n",
    "        n_arms = len(rewards)\n",
    "        ucb = np.zeros(n_arms)\n",
    "        \n",
    "        def UCB1():\n",
    "            tot_count = np.sum(counts)\n",
    "            flag = True\n",
    "            for i in range(n_arms):\n",
    "                if counts[i] == 0:\n",
    "                    flag = True \n",
    "                    return i\n",
    "                else:\n",
    "                    flag = False\n",
    "                \n",
    "            if(flag == False):\n",
    "                for i in range(n_arms):\n",
    "                    bonus = np.sqrt((2 * np.log(tot_count)) / float(counts[i]))\n",
    "                    ucb[i] = actions[i].mean + bonus\n",
    "\n",
    "            return np.argmax(ucb)\n",
    "                     \n",
    "\n",
    "        for i in range(N): \n",
    "            j = UCB1()  \n",
    "            x = actions[j].choose() \n",
    "            actions[j].update(x)\n",
    "            counts[j] += 1\n",
    "\n",
    "            # for the plot \n",
    "            data[i] = x \n",
    "        cumulative_average = np.cumsum(data) / (np.arange(N) + 1) \n",
    "\n",
    "        for a in actions: \n",
    "            print(a.mean)\n",
    "        return cumulative_average,counts\n",
    "    \n",
    "    def plotResult(cum_avg,rewards,N):\n",
    "        # plot moving average ctr \n",
    "        plt.plot(cum_avg) \n",
    "        for i in range(len(rewards)):\n",
    "            plt.plot(np.ones(N)*rewards[i]) \n",
    "            plt.xscale('log')\n",
    "            plt.xlim(1,N)\n",
    "            plt.ylim(0,6)\n",
    "        plt.show()         "
   ]
  },
  {
   "cell_type": "code",
   "execution_count": 4,
   "metadata": {
    "colab": {
     "base_uri": "https://localhost:8080/",
     "height": 326
    },
    "executionInfo": {
     "elapsed": 18913,
     "status": "ok",
     "timestamp": 1608015715960,
     "user": {
      "displayName": "Arrun Sivasubramanian",
      "photoUrl": "https://lh3.googleusercontent.com/a-/AOh14GjSWIO-QF__sallw7NcFUUpdE7GNq6EQTJqS9T36A=s64",
      "userId": "17543593515242753997"
     },
     "user_tz": -330
    },
    "id": "1C1h9KPAVk9S",
    "outputId": "151035c6-235c-49de-b912-1f76df17bdd6"
   },
   "outputs": [
    {
     "name": "stdout",
     "output_type": "stream",
     "text": [
      "1.202126230186535\n",
      "1.3840232058811262\n",
      "1.7916634448100475\n"
     ]
    },
    {
     "data": {
      "image/png": "[encoded data removed]",
      "text/plain": [
       "<Figure size 432x288 with 1 Axes>"
      ]
     },
     "metadata": {
      "needs_background": "light",
      "tags": []
     },
     "output_type": "display_data"
    }
   ],
   "source": [
    "c_1 = Actions.run_experiment(reward,N)\n",
    "Actions.plotResult(c_1[0],reward,N)"
   ]
  },
  {
   "cell_type": "code",
   "execution_count": 5,
   "metadata": {
    "colab": {
     "base_uri": "https://localhost:8080/"
    },
    "executionInfo": {
     "elapsed": 18909,
     "status": "ok",
     "timestamp": 1608015715962,
     "user": {
      "displayName": "Arrun Sivasubramanian",
      "photoUrl": "https://lh3.googleusercontent.com/a-/AOh14GjSWIO-QF__sallw7NcFUUpdE7GNq6EQTJqS9T36A=s64",
      "userId": "17543593515242753997"
     },
     "user_tz": -330
    },
    "id": "810s1GUGnGfp",
    "outputId": "7d7d26ef-b714-47e8-c580-7873188bd03e"
   },
   "outputs": [
    {
     "data": {
      "text/plain": [
       "[66, 133, 99801]"
      ]
     },
     "execution_count": 5,
     "metadata": {
      "tags": []
     },
     "output_type": "execute_result"
    }
   ],
   "source": [
    "c_1[1]"
   ]
  }
 ],
 "metadata": {
  "colab": {
   "collapsed_sections": [],
   "name": "UCBAlgorithm.ipynb",
   "provenance": []
  },
  "kernelspec": {
   "display_name": "Python 3 (ipykernel)",
   "language": "python",
   "name": "python3"
  },
  "language_info": {
   "codemirror_mode": {
    "name": "ipython",
    "version": 3
   },
   "file_extension": ".py",
   "mimetype": "text/x-python",
   "name": "python",
   "nbconvert_exporter": "python",
   "pygments_lexer": "ipython3",
   "version": "3.9.7"
  }
 },
 "nbformat": 4,
 "nbformat_minor": 4
}

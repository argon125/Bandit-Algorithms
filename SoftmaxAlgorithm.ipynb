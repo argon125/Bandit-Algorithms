{
 "cells": [
  {
   "cell_type": "code",
   "execution_count": 1,
   "metadata": {},
   "outputs": [],
   "source": [
    "import numpy as np\n",
    "from random import *\n",
    "import matplotlib.pyplot as plt"
   ]
  },
  {
   "cell_type": "code",
   "execution_count": 2,
   "metadata": {},
   "outputs": [
    {
     "name": "stdin",
     "output_type": "stream",
     "text": [
      "Enter Number of Arms: 3\n",
      "Enter Number of Iterations: 100000\n",
      "Enter temperature: 1\n"
     ]
    },
    {
     "name": "stdout",
     "output_type": "stream",
     "text": [
      "Enter Values of Rewards:\n"
     ]
    },
    {
     "name": "stdin",
     "output_type": "stream",
     "text": [
      " 1.2\n",
      " 5.5\n",
      " 3.8\n"
     ]
    },
    {
     "name": "stdout",
     "output_type": "stream",
     "text": [
      "Input of Rewards: [1.2 5.5 3.8]\n"
     ]
    }
   ],
   "source": [
    "n = int(input(\"Enter Number of Arms:\")) # number of arms\n",
    "N = int(input(\"Enter Number of Iterations:\")) # number of simulations\n",
    "tau = int(input(\"Enter temperature:\"))\n",
    "reward = np.zeros(n, dtype = \"float32\")\n",
    "print(\"Enter Values of Rewards:\")\n",
    "for i in range(n):\n",
    "    reward[i] = float(input())\n",
    "\n",
    "print(f\"Input of Rewards: {reward}\")"
   ]
  },
  {
   "cell_type": "code",
   "execution_count": 3,
   "metadata": {},
   "outputs": [],
   "source": [
    "# Define Action class \n",
    "class Actions: \n",
    "    def __init__(self, m): \n",
    "        self.m = m # reward for arm\n",
    "        self.mean = 0 # average reward for arm \n",
    "        self.N = 0 #Number of Simulations\n",
    "  \n",
    "  # Choose a random action \n",
    "    def choose(self):  \n",
    "        return np.random.randn() + self.m  #adding a random number to reward to add noise\n",
    "  \n",
    "  # Update the action-value estimate \n",
    "    def update(self, x): \n",
    "        self.N += 1\n",
    "        self.mean = (1 - 1.0 / self.N)*self.mean + 1.0 / self.N * x \n",
    "    \n",
    "    def run_experiment(rewards, temp, N): \n",
    "        def softMax(rew):\n",
    "            den = np.sum(np.exp(rew/temp))\n",
    "            expr = np.zeros(len(rew))\n",
    "            for i in range(len(rew)):\n",
    "                expr[i] = np.exp(rew[i]/temp)/den\n",
    "            \n",
    "            return np.round(expr,2)\n",
    "        \n",
    "        actions = []\n",
    "        for i in range(len(rewards)):\n",
    "            actions.append(Actions(rewards[i]))\n",
    "        data = np.empty(N) \n",
    "    \n",
    "        for i in range(N): \n",
    "            # Softmax Algorithm\n",
    "            j = np.random.choice(3, p = softMax(rewards))    \n",
    "            x = actions[j].choose() \n",
    "            actions[j].update(x) \n",
    "\n",
    "            # for the plot \n",
    "            data[i] = x \n",
    "        cumulative_average = np.cumsum(data) / (np.arange(N) + 1) \n",
    "\n",
    "        for a in actions: \n",
    "            print(a.mean)\n",
    "        return cumulative_average\n",
    "    \n",
    "    def plotResult(cum_avg,rewards,N):\n",
    "        # plot moving average ctr \n",
    "        plt.plot(cum_avg) \n",
    "        for i in range(len(rewards)):\n",
    "            plt.plot(np.ones(N)*rewards[i]) \n",
    "            plt.xscale('log')\n",
    "            plt.xlim(1,N)\n",
    "            plt.ylim(0,6)\n",
    "        plt.show()         "
   ]
  },
  {
   "cell_type": "code",
   "execution_count": 4,
   "metadata": {},
   "outputs": [
    {
     "name": "stdout",
     "output_type": "stream",
     "text": [
      "1.1703833391094067\n",
      "5.5019368703097395\n",
      "3.7967907640028153\n"
     ]
    },
    {
     "data": {
      "image/png": "[encoded data removed]",
      "text/plain": [
       "<Figure size 432x288 with 1 Axes>"
      ]
     },
     "metadata": {
      "needs_background": "light"
     },
     "output_type": "display_data"
    }
   ],
   "source": [
    "c_1 = Actions.run_experiment(reward,tau,N)\n",
    "Actions.plotResult(c_1,reward,N)"
   ]
  },
  {
   "cell_type": "code",
   "execution_count": 5,
   "metadata": {},
   "outputs": [],
   "source": [
    "def testSoftmax(reward,N):\n",
    "    labels = [] \n",
    "    for i in range(1,10,2):\n",
    "        labels.append(i/10)\n",
    "        c_1 = Actions.run_experiment(reward,i/10, N)\n",
    "        plt.plot(c_1)\n",
    "        plt.xscale('log')\n",
    "        plt.xlim(1,N)\n",
    "        plt.ylim(0,6)\n",
    "        plt.legend(labels,loc=\"best\")\n",
    "    plt.show()"
   ]
  },
  {
   "cell_type": "code",
   "execution_count": 6,
   "metadata": {},
   "outputs": [
    {
     "name": "stdout",
     "output_type": "stream",
     "text": [
      "0\n",
      "5.502373066170687\n",
      "0\n",
      "0\n",
      "5.497758474550683\n",
      "0\n",
      "0\n",
      "5.4978089182157275\n",
      "3.7865476007444774\n",
      "0\n",
      "5.504145697622605\n",
      "3.811305181192331\n",
      "1.1824470033129812\n",
      "5.503501545851936\n",
      "3.791439223308764\n"
     ]
    },
    {
     "data": {
      "image/png": "[encoded data removed]",
      "text/plain": [
       "<Figure size 432x288 with 1 Axes>"
      ]
     },
     "metadata": {
      "needs_background": "light"
     },
     "output_type": "display_data"
    }
   ],
   "source": [
    "testSoftmax(reward,100000)"
   ]
  }
 ],
 "metadata": {
  "kernelspec": {
   "display_name": "Python 3 (ipykernel)",
   "language": "python",
   "name": "python3"
  },
  "language_info": {
   "codemirror_mode": {
    "name": "ipython",
    "version": 3
   },
   "file_extension": ".py",
   "mimetype": "text/x-python",
   "name": "python",
   "nbconvert_exporter": "python",
   "pygments_lexer": "ipython3",
   "version": "3.9.7"
  }
 },
 "nbformat": 4,
 "nbformat_minor": 4
}
